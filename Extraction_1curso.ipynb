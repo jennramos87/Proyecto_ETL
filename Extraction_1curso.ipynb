{
 "cells": [
  {
   "cell_type": "markdown",
   "metadata": {},
   "source": [
    "**Class Project:**  - Jenifer Ramos Rios - Code: 22500237"
   ]
  },
  {
   "cell_type": "markdown",
   "metadata": {},
   "source": [
    "Data base connection"
   ]
  },
  {
   "cell_type": "code",
   "execution_count": 4,
   "metadata": {},
   "outputs": [],
   "source": [
    "# Librerias\n",
    "import yaml\n",
    "import psycopg2 \n",
    "from psycopg2 import sql\n",
    "from sqlalchemy import create_engine, text\n",
    "from sqlalchemy.types import Integer, String, DateTime, Float\n",
    "import pandas as pd\n",
    "import os\n",
    "import re"
   ]
  },
  {
   "cell_type": "code",
   "execution_count": 5,
   "metadata": {},
   "outputs": [],
   "source": [
    "def load_config(file_path=\"config.yaml\"):\n",
    "    with open(file_path, \"r\") as file: # Abre el archivo en modo lectura (\"r\")\n",
    "        return yaml.safe_load(file) # Carga y devuelve el contenido del archivo YAML"
   ]
  },
  {
   "cell_type": "code",
   "execution_count": 6,
   "metadata": {},
   "outputs": [],
   "source": [
    "config = load_config()\n",
    "db_config = config[\"database\"]\n",
    "\n",
    "# Load credentials, se accede a los valores de la clave \"database\" del archivo config.yaml\n",
    "db_user = db_config[\"user\"]\n",
    "db_password = db_config[\"password\"]\n",
    "db_host = db_config[\"host\"]\n",
    "db_port = db_config[\"port\"]\n",
    "db_name = db_config[\"name\"]\n",
    "\n",
    "# DB connection\n",
    "conn = psycopg2.connect(\n",
    "    dbname=\"postgres\",\n",
    "    user=db_user,\n",
    "    password=db_password,\n",
    "    host=db_host,\n",
    "    port=db_port\n",
    ")\n",
    "conn.autocommit = True"
   ]
  },
  {
   "cell_type": "code",
   "execution_count": null,
   "metadata": {},
   "outputs": [],
   "source": [
    "#Creating the database \n",
    "db_name = \"ETL_Project\"\n",
    "try:\n",
    "    with conn.cursor() as cur:\n",
    "        cur.execute(sql.SQL(\"CREATE DATABASE {}\").format(sql.Identifier(db_name)))\n",
    "        print(f\"Base de datos '{db_name}' creada exitosamente.\")\n",
    "except psycopg2.errors.DuplicateDatabase:\n",
    "    print(f\"La base de datos '{db_name}' ya existe.\")\n",
    "finally:\n",
    "    conn.close() #Close the database connection"
   ]
  },
  {
   "cell_type": "markdown",
   "metadata": {},
   "source": [
    "File Reading for Review and Table Creation"
   ]
  },
  {
   "cell_type": "code",
   "execution_count": 7,
   "metadata": {},
   "outputs": [
    {
     "name": "stdout",
     "output_type": "stream",
     "text": [
      "Excel (xlsx) files found: ['D:/JENN/Maestria IACD/ETL/ETL-Class-Project/Data/1erCurso\\\\2017_1ERCURSO.xlsx', 'D:/JENN/Maestria IACD/ETL/ETL-Class-Project/Data/1erCurso\\\\2018_1ERCURSO.xlsx', 'D:/JENN/Maestria IACD/ETL/ETL-Class-Project/Data/1erCurso\\\\2019_1ERCURSO.xlsx', 'D:/JENN/Maestria IACD/ETL/ETL-Class-Project/Data/1erCurso\\\\2020_1ERCURSO.xlsx', 'D:/JENN/Maestria IACD/ETL/ETL-Class-Project/Data/1erCurso\\\\2021_1ERCURSO.xlsx', 'D:/JENN/Maestria IACD/ETL/ETL-Class-Project/Data/1erCurso\\\\2022_1ERCURSO.xlsx', 'D:/JENN/Maestria IACD/ETL/ETL-Class-Project/Data/1erCurso\\\\2023_1ERCURSO.xlsx']\n"
     ]
    }
   ],
   "source": [
    "# Specify the directory where the files are located\n",
    "first_course_path = \"D:/JENN/Maestria IACD/ETL/ETL-Class-Project/Data/1erCurso\"\n",
    "\n",
    "\n",
    "#List to store file names\n",
    "first_course_file_list = []\n",
    "\n",
    "# Iterate over the files in the directory\n",
    "for filename in os.listdir(first_course_path):\n",
    "    # Check if the file has the .xlsx extension\n",
    "    if filename.endswith(\".xlsx\"):\n",
    "        # Add the file to the list\n",
    "        first_course_file_list.append(os.path.join(first_course_path, filename))\n",
    "\n",
    "# Print the list of files\n",
    "print(\"Excel (xlsx) files found:\", first_course_file_list)"
   ]
  },
  {
   "cell_type": "code",
   "execution_count": 8,
   "metadata": {
    "vscode": {
     "languageId": "ruby"
    }
   },
   "outputs": [
    {
     "name": "stdout",
     "output_type": "stream",
     "text": [
      "Datos del archivo D:/JENN/Maestria IACD/ETL/ETL-Class-Project/Data/1erCurso\\2017_1ERCURSO.xlsx cargados en la tabla 'tabla_2017_1ERCURSO' de la base de datos.\n",
      "Datos del archivo D:/JENN/Maestria IACD/ETL/ETL-Class-Project/Data/1erCurso\\2018_1ERCURSO.xlsx cargados en la tabla 'tabla_2018_1ERCURSO' de la base de datos.\n",
      "Datos del archivo D:/JENN/Maestria IACD/ETL/ETL-Class-Project/Data/1erCurso\\2019_1ERCURSO.xlsx cargados en la tabla 'tabla_2019_1ERCURSO' de la base de datos.\n",
      "Datos del archivo D:/JENN/Maestria IACD/ETL/ETL-Class-Project/Data/1erCurso\\2020_1ERCURSO.xlsx cargados en la tabla 'tabla_2020_1ERCURSO' de la base de datos.\n",
      "Datos del archivo D:/JENN/Maestria IACD/ETL/ETL-Class-Project/Data/1erCurso\\2021_1ERCURSO.xlsx cargados en la tabla 'tabla_2021_1ERCURSO' de la base de datos.\n",
      "Datos del archivo D:/JENN/Maestria IACD/ETL/ETL-Class-Project/Data/1erCurso\\2022_1ERCURSO.xlsx cargados en la tabla 'tabla_2022_1ERCURSO' de la base de datos.\n",
      "Datos del archivo D:/JENN/Maestria IACD/ETL/ETL-Class-Project/Data/1erCurso\\2023_1ERCURSO.xlsx cargados en la tabla 'tabla_2023_1ERCURSO' de la base de datos.\n"
     ]
    }
   ],
   "source": [
    "table_names = []\n",
    "\n",
    "# Crear una conexión a la base de datos ETL_Project\n",
    "engine = create_engine(f'postgresql://{db_user}:{db_password}@{db_host}:{db_port}/{db_name}')\n",
    "\n",
    "# Leer los archivos en dataframes y cargarlos en la base de datos\n",
    "for file in first_course_file_list:\n",
    "    # Leer el archivo en un dataframe\n",
    "    df = pd.read_excel(file, header=None)\n",
    "    \n",
    "    # Hacer que la primera fila sea el encabezado\n",
    "    df.columns = df.iloc[0]\n",
    "    df = df[1:]\n",
    "\n",
    "    # Cambiar los encabezados a mayúsculas y eliminar tildes\n",
    "    df.columns = df.columns.str.upper().str.normalize('NFKD').str.encode('ascii', errors='ignore').str.decode('utf-8')\n",
    "\n",
    "    # Obtener el nombre del archivo sin la extensión\n",
    "    table_name = \"tabla_\" + os.path.splitext(os.path.basename(file))[0]\n",
    "    table_names.append(table_name)\n",
    "\n",
    "    # Cargar el dataframe en la base de datos\n",
    "    df.to_sql(table_name, engine, if_exists='replace', index=False)\n",
    "    print(f\"Datos del archivo {file} cargados en la tabla '{table_name}' de la base de datos.\")"
   ]
  },
  {
   "cell_type": "markdown",
   "metadata": {},
   "source": [
    "#### Load of data from database to transform"
   ]
  },
  {
   "cell_type": "code",
   "execution_count": 9,
   "metadata": {},
   "outputs": [],
   "source": [
    "# leer las tablas de la DB en dataframes y mostrar los encabezados de cada tabla\n",
    "# Load the tables in daba base and do a copy into a DataFrame\n",
    "with engine.connect() as conn:\n",
    "\tdf_2017_1ERCURSO_copy= pd.read_sql('SELECT * FROM \"tabla_2017_1ERCURSO\"', conn)\n",
    "\tdf_2018_1ERCURSO_copy= pd.read_sql('SELECT * FROM \"tabla_2018_1ERCURSO\"', conn)\n",
    "\tdf_2019_1ERCURSO_copy= pd.read_sql('SELECT * FROM \"tabla_2019_1ERCURSO\"', conn)\n",
    "\tdf_2020_1ERCURSO_copy= pd.read_sql('SELECT * FROM \"tabla_2020_1ERCURSO\"', conn)\n",
    "\tdf_2021_1ERCURSO_copy= pd.read_sql('SELECT * FROM \"tabla_2021_1ERCURSO\"', conn)\n",
    "\tdf_2022_1ERCURSO_copy= pd.read_sql('SELECT * FROM \"tabla_2022_1ERCURSO\"', conn)\n",
    "\tdf_2023_1ERCURSO_copy= pd.read_sql('SELECT * FROM \"tabla_2023_1ERCURSO\"', conn)"
   ]
  },
  {
   "cell_type": "code",
   "execution_count": null,
   "metadata": {},
   "outputs": [],
   "source": [
    "\n",
    "# Display the first few rows of the DataFrame\n",
    "df_2017_1ERCURSO_copy.head()\n"
   ]
  },
  {
   "cell_type": "code",
   "execution_count": null,
   "metadata": {},
   "outputs": [],
   "source": [
    "df_2018_1ERCURSO_copy.head()\n"
   ]
  },
  {
   "cell_type": "code",
   "execution_count": null,
   "metadata": {},
   "outputs": [],
   "source": [
    "df_2019_1ERCURSO_copy.head()\n"
   ]
  },
  {
   "cell_type": "code",
   "execution_count": null,
   "metadata": {},
   "outputs": [],
   "source": [
    "df_2020_1ERCURSO_copy.head()\n"
   ]
  },
  {
   "cell_type": "code",
   "execution_count": null,
   "metadata": {},
   "outputs": [],
   "source": [
    "df_2021_1ERCURSO_copy.head()\n"
   ]
  },
  {
   "cell_type": "code",
   "execution_count": null,
   "metadata": {},
   "outputs": [],
   "source": [
    "df_2022_1ERCURSO_copy.head()\n"
   ]
  },
  {
   "cell_type": "code",
   "execution_count": null,
   "metadata": {},
   "outputs": [],
   "source": [
    "df_2023_1ERCURSO_copy.head()"
   ]
  },
  {
   "cell_type": "code",
   "execution_count": 10,
   "metadata": {},
   "outputs": [
    {
     "name": "stdout",
     "output_type": "stream",
     "text": [
      "Encabezados del DataFrame 2017 (ordenados alfabéticamente):\n",
      "['ANO', 'AREA DE CONOCIMIENTO', 'CARACTER IES', 'CODIGO \\nSNIES DEL\\nPROGRAMA', 'CODIGO DE \\nLA INSTITUCION', 'CODIGO DEL \\nDEPARTAMENTO\\n(IES)', 'CODIGO DEL \\nDEPARTAMENTO\\n(PROGRAMA)', 'CODIGO DEL \\nMUNICIPIO\\n(IES)', 'CODIGO DEL \\nMUNICIPIO\\n(PROGRAMA)', 'DEPARTAMENTO DE \\nDOMICILIO DE LA IES', 'DEPARTAMENTO DE OFERTA DEL PROGRAMA', 'ID AREA', 'ID CARACTER', 'ID METODOLOGIA', 'ID NIVEL ACADEMICO', 'ID NIVEL DE FORMACION', 'ID SECTOR IES', 'ID SEXO', 'ID_NUCLEO', 'IES PADRE', 'INSTITUCION DE EDUCACION SUPERIOR (IES)', 'METODOLOGIA', 'MUNICIPIO DE\\nDOMICILIO DE LA IES', 'MUNICIPIO DE OFERTA DEL PROGRAMA', 'NIVEL ACADEMICO', 'NIVEL DE FORMACION', 'NUCLEO BASICO DEL CONOCIMIENTO (NBC)', 'PRIMER CURSO 2017', 'PRINCIPAL\\n O\\nSECCIONAL', 'PROGRAMA ACADEMICO', 'SECTOR IES', 'SEMESTRE', 'SEXO']\n",
      "\n",
      "Encabezados del DataFrame 2018 (ordenados alfabéticamente):\n",
      "['ANO', 'AREA DE CONOCIMIENTO', 'CARACTER IES', 'CODIGO DE LA INSTITUCION', 'CODIGO DEL DEPARTAMENTO (IES)', 'CODIGO DEL DEPARTAMENTO (PROGRAMA)', 'CODIGO DEL MUNICIPIO', 'CODIGO DEL MUNICIPIO (PROGRAMA)', 'CODIGO SNIES DEL PROGRAMA', 'DEPARTAMENTO DE DOMICILIO DE LA IES', 'DEPARTAMENTO DE OFERTA DEL PROGRAMA', 'ID AREA', 'ID CARACTER', 'ID METODOLOGIA', 'ID NIVEL ACADEMICO', 'ID NIVEL DE FORMACION', 'ID NUCLEO', 'ID SECTOR IES', 'ID SEXO', 'IES_PADRE', 'INSTITUCION DE EDUCACION SUPERIOR (IES)', 'METODOLOGIA', 'MUNICIPIO DE DOMICILIO DE LA IES', 'MUNICIPIO DE OFERTA DEL PROGRAMA', 'NIVEL ACADEMICO', 'NIVEL DE FORMACION', 'NUCLEO BASICO DEL CONOCIMIENTO (NBC)', 'PRIMER CURSO 2018', 'PRINCIPAL O SECCIONAL', 'PROGRAMA ACADEMICO', 'SECTOR IES', 'SEMESTRE', 'SEXO']\n",
      "\n",
      "Encabezados del DataFrame 2019 (ordenados alfabéticamente):\n",
      "['ANO', 'AREA DE CONOCIMIENTO', 'CARACTER IES', 'CODIGO DE LA INSTITUCION', 'CODIGO DEL DEPARTAMENTO (IES)', 'CODIGO DEL DEPARTAMENTO (PROGRAMA)', 'CODIGO DEL MUNICIPIO', 'CODIGO DEL MUNICIPIO (PROGRAMA)', 'CODIGO SNIES DEL PROGRAMA', 'DEPARTAMENTO DE DOMICILIO DE LA IES', 'DEPARTAMENTO DE OFERTA DEL PROGRAMA', 'DESC CINE CAMPO AMPLIO', 'DESC CINE CAMPO ESPECIFICO', 'DESC CINE CODIGO DETALLADO', 'ID AREA', 'ID CARACTER', 'ID CINE CAMPO AMPLIO', 'ID CINE CAMPO ESPECIFICO', 'ID CINE CODIGO DETALLADO', 'ID METODOLOGIA', 'ID NIVEL ACADEMICO', 'ID NIVEL DE FORMACION', 'ID NUCLEO', 'ID SECTOR IES', 'ID SEXO', 'IES_PADRE', 'INSTITUCION DE EDUCACION SUPERIOR (IES)', 'METODOLOGIA', 'MUNICIPIO DE DOMICILIO DE LA IES', 'MUNICIPIO DE OFERTA DEL PROGRAMA', 'NIVEL ACADEMICO', 'NIVEL DE FORMACION', 'NUCLEO BASICO DEL CONOCIMIENTO (NBC)', 'PRIMER CURSO 2019', 'PRINCIPAL O SECCIONAL', 'PROGRAMA ACADEMICO', 'SECTOR IES', 'SEMESTRE']\n",
      "\n",
      "Encabezados del DataFrame 2020 (ordenados alfabéticamente):\n",
      "['ANO', 'AREA DE CONOCIMIENTO', 'CARACTER IES', 'CODIGO DE LA INSTITUCION', 'CODIGO DEL DEPARTAMENTO (IES)', 'CODIGO DEL DEPARTAMENTO (PROGRAMA)', 'CODIGO DEL MUNICIPIO (IES)', 'CODIGO DEL MUNICIPIO (PROGRAMA)', 'CODIGO SNIES DEL PROGRAMA', 'DEPARTAMENTO DE DOMICILIO DE LA IES', 'DEPARTAMENTO DE OFERTA DEL PROGRAMA', 'DESC CINE CAMPO AMPLIO', 'DESC CINE CAMPO ESPECIFICO', 'DESC CINE CODIGO DETALLADO', 'ID AREA DE CONOCIMIENTO', 'ID CARACTER', 'ID CINE CAMPO AMPLIO', 'ID CINE CAMPO ESPECIFICO', 'ID CINE CODIGO DETALLADO', 'ID METODOLOGIA', 'ID NIVEL ACADEMICO', 'ID NIVEL DE FORMACION', 'ID NUCLEO', 'ID SECTOR IES', 'ID SEXO', 'IES_PADRE', 'INSTITUCION DE EDUCACION SUPERIOR (IES)', 'METODOLOGIA', 'MUNICIPIO DE DOMICILIO DE LA IES', 'MUNICIPIO DE OFERTA DEL PROGRAMA', 'NIVEL ACADEMICO', 'NIVEL DE FORMACION', 'NUCLEO BASICO DEL CONOCIMIENTO (NBC)', 'PRIMER CURSO', 'PRINCIPAL O SECCIONAL', 'PROGRAMA ACADEMICO', 'SECTOR IES', 'SEMESTRE', 'SEXO']\n",
      "\n",
      "Encabezados del DataFrame 2021 (ordenados alfabéticamente):\n",
      "['ANO', 'AREA DE CONOCIMIENTO', 'CARACTER IES', 'CODIGO DE LA INSTITUCION', 'CODIGO DEL DEPARTAMENTO (IES)', 'CODIGO DEL DEPARTAMENTO (PROGRAMA)', 'CODIGO DEL MUNICIPIO (IES)', 'CODIGO DEL MUNICIPIO (PROGRAMA)', 'CODIGO SNIES DEL PROGRAMA', 'DEPARTAMENTO DE DOMICILIO DE LA IES', 'DEPARTAMENTO DE OFERTA DEL PROGRAMA', 'DESC CINE CAMPO AMPLIO', 'DESC CINE CAMPO ESPECIFICO', 'DESC CINE CODIGO DETALLADO', 'ID AREA DE CONOCIMIENTO', 'ID CARACTER', 'ID CINE CAMPO AMPLIO', 'ID CINE CAMPO ESPECIFICO', 'ID CINE CODIGO DETALLADO', 'ID METODOLOGIA', 'ID NIVEL ACADEMICO', 'ID NIVEL DE FORMACION', 'ID NUCLEO', 'ID SECTOR IES', 'ID SEXO', 'IES ACREDITADA', 'IES_PADRE', 'INSTITUCION DE EDUCACION SUPERIOR (IES)', 'METODOLOGIA', 'MUNICIPIO DE DOMICILIO DE LA IES', 'MUNICIPIO DE OFERTA DEL PROGRAMA', 'NIVEL ACADEMICO', 'NIVEL DE FORMACION', 'NUCLEO BASICO DEL CONOCIMIENTO (NBC)', 'PRIMER CURSO', 'PRINCIPAL O SECCIONAL', 'PROGRAMA ACADEMICO', 'PROGRAMA ACREDITADO', 'SECTOR IES', 'SEMESTRE', 'SEXO']\n",
      "\n",
      "Encabezados del DataFrame 2022 (ordenados alfabéticamente):\n",
      "['ANO', 'AREA DE CONOCIMIENTO', 'CARACTER IES', 'CODIGO DE LA INSTITUCION', 'CODIGO DEL DEPARTAMENTO (IES)', 'CODIGO DEL DEPARTAMENTO (PROGRAMA)', 'CODIGO DEL MUNICIPIO (IES)', 'CODIGO DEL MUNICIPIO (PROGRAMA)', 'CODIGO SNIES DEL PROGRAMA', 'DEPARTAMENTO DE DOMICILIO DE LA IES', 'DEPARTAMENTO DE OFERTA DEL PROGRAMA', 'DESC CINE CAMPO AMPLIO', 'DESC CINE CAMPO ESPECIFICO', 'DESC CINE CODIGO DETALLADO', 'ID AREA DE CONOCIMIENTO', 'ID CARACTER', 'ID CINE CAMPO AMPLIO', 'ID CINE CAMPO ESPECIFICO', 'ID CINE CODIGO DETALLADO', 'ID METODOLOGIA', 'ID NIVEL ACADEMICO', 'ID NIVEL DE FORMACION', 'ID NUCLEO', 'ID SECTOR IES', 'ID SEXO', 'IES ACREDITADA', 'IES_PADRE', 'INSTITUCION DE EDUCACION SUPERIOR (IES)', 'METODOLOGIA', 'MUNICIPIO DE DOMICILIO DE LA IES', 'MUNICIPIO DE OFERTA DEL PROGRAMA', 'NIVEL ACADEMICO', 'NIVEL DE FORMACION', 'NUCLEO BASICO DEL CONOCIMIENTO (NBC)', 'PRIMER CURSO', 'PRINCIPAL O SECCIONAL', 'PROGRAMA ACADEMICO', 'PROGRAMA ACREDITADO', 'SECTOR IES', 'SEMESTRE', 'SEXO']\n",
      "\n",
      "Encabezados del DataFrame 2023 (ordenados alfabéticamente):\n",
      "['ANO', 'AREA DE CONOCIMIENTO', 'CARACTER IES', 'CODIGO DE LA INSTITUCION', 'CODIGO DEL DEPARTAMENTO (IES)', 'CODIGO DEL DEPARTAMENTO (PROGRAMA)', 'CODIGO DEL MUNICIPIO (PROGRAMA)', 'CODIGO DEL MUNICIPIO IES', 'CODIGO SNIES DEL PROGRAMA', 'DEPARTAMENTO DE DOMICILIO DE LA IES', 'DEPARTAMENTO DE OFERTA DEL PROGRAMA', 'DESC CINE CAMPO AMPLIO', 'DESC CINE CAMPO DETALLADO', 'DESC CINE CAMPO ESPECIFICO', 'ID AREA', 'ID CARACTER IES', 'ID CINE CAMPO AMPLIO', 'ID CINE CAMPO DETALLADO', 'ID CINE CAMPO ESPECIFICO', 'ID MODALIDAD', 'ID NIVEL ACADEMICO', 'ID NIVEL DE FORMACION', 'ID NUCLEO', 'ID SECTOR IES', 'ID SEXO', 'IES ACREDITADA', 'IES PADRE', 'INSTITUCION DE EDUCACION SUPERIOR (IES)', 'MATRICULADOS PRIMER CURSO', 'MODALIDAD', 'MUNICIPIO DE DOMICILIO DE LA IES', 'MUNICIPIO DE OFERTA DEL PROGRAMA', 'NIVEL ACADEMICO', 'NIVEL DE FORMACION', 'NUCLEO BASICO DEL CONOCIMIENTO (NBC)', 'PROGRAMA ACADEMICO', 'PROGRAMA ACREDITADO', 'SECTOR IES', 'SEMESTRE', 'SEXO', 'TIPO IES']\n",
      "\n"
     ]
    }
   ],
   "source": [
    "# Mostrar los encabezados de los DataFrames en orden alfabético\n",
    "for i, df in enumerate([df_2017_1ERCURSO_copy, df_2018_1ERCURSO_copy, df_2019_1ERCURSO_copy, \n",
    "                         df_2020_1ERCURSO_copy, df_2021_1ERCURSO_copy, df_2022_1ERCURSO_copy, \n",
    "                         df_2023_1ERCURSO_copy]):\n",
    "    print(f\"Encabezados del DataFrame {i + 2017} (ordenados alfabéticamente):\")\n",
    "    print(sorted(df.columns.tolist()))\n",
    "    print()"
   ]
  },
  {
   "cell_type": "code",
   "execution_count": 11,
   "metadata": {},
   "outputs": [
    {
     "name": "stdout",
     "output_type": "stream",
     "text": [
      "Tipos de datos del DataFrame 2017:\n",
      "CODIGO DE \\nLA INSTITUCION                  int64\n",
      "IES PADRE                                   int64\n",
      "INSTITUCION DE EDUCACION SUPERIOR (IES)    object\n",
      "PRINCIPAL\\n O\\nSECCIONAL                   object\n",
      "ID SECTOR IES                               int64\n",
      "SECTOR IES                                 object\n",
      "ID CARACTER                                 int64\n",
      "CARACTER IES                               object\n",
      "CODIGO DEL \\nDEPARTAMENTO\\n(IES)            int64\n",
      "DEPARTAMENTO DE \\nDOMICILIO DE LA IES      object\n",
      "CODIGO DEL \\nMUNICIPIO\\n(IES)               int64\n",
      "MUNICIPIO DE\\nDOMICILIO DE LA IES          object\n",
      "CODIGO \\nSNIES DEL\\nPROGRAMA                int64\n",
      "PROGRAMA ACADEMICO                         object\n",
      "ID NIVEL ACADEMICO                          int64\n",
      "NIVEL ACADEMICO                            object\n",
      "ID NIVEL DE FORMACION                       int64\n",
      "NIVEL DE FORMACION                         object\n",
      "ID METODOLOGIA                              int64\n",
      "METODOLOGIA                                object\n",
      "ID AREA                                     int64\n",
      "AREA DE CONOCIMIENTO                       object\n",
      "ID_NUCLEO                                  object\n",
      "NUCLEO BASICO DEL CONOCIMIENTO (NBC)       object\n",
      "CODIGO DEL \\nDEPARTAMENTO\\n(PROGRAMA)       int64\n",
      "DEPARTAMENTO DE OFERTA DEL PROGRAMA        object\n",
      "CODIGO DEL \\nMUNICIPIO\\n(PROGRAMA)          int64\n",
      "MUNICIPIO DE OFERTA DEL PROGRAMA           object\n",
      "ID SEXO                                     int64\n",
      "SEXO                                       object\n",
      "ANO                                         int64\n",
      "SEMESTRE                                    int64\n",
      "PRIMER CURSO 2017                           int64\n",
      "dtype: object\n",
      "\n",
      "Tipos de datos del DataFrame 2018:\n",
      "CODIGO DE LA INSTITUCION                    int64\n",
      "IES_PADRE                                   int64\n",
      "INSTITUCION DE EDUCACION SUPERIOR (IES)    object\n",
      "PRINCIPAL O SECCIONAL                      object\n",
      "ID SECTOR IES                               int64\n",
      "SECTOR IES                                 object\n",
      "ID CARACTER                                 int64\n",
      "CARACTER IES                               object\n",
      "CODIGO DEL DEPARTAMENTO (IES)               int64\n",
      "DEPARTAMENTO DE DOMICILIO DE LA IES        object\n",
      "CODIGO DEL MUNICIPIO                        int64\n",
      "MUNICIPIO DE DOMICILIO DE LA IES           object\n",
      "CODIGO SNIES DEL PROGRAMA                   int64\n",
      "PROGRAMA ACADEMICO                         object\n",
      "ID NIVEL ACADEMICO                          int64\n",
      "NIVEL ACADEMICO                            object\n",
      "ID NIVEL DE FORMACION                       int64\n",
      "NIVEL DE FORMACION                         object\n",
      "ID METODOLOGIA                              int64\n",
      "METODOLOGIA                                object\n",
      "ID AREA                                     int64\n",
      "AREA DE CONOCIMIENTO                       object\n",
      "ID NUCLEO                                   int64\n",
      "NUCLEO BASICO DEL CONOCIMIENTO (NBC)       object\n",
      "CODIGO DEL DEPARTAMENTO (PROGRAMA)         object\n",
      "DEPARTAMENTO DE OFERTA DEL PROGRAMA        object\n",
      "CODIGO DEL MUNICIPIO (PROGRAMA)            object\n",
      "MUNICIPIO DE OFERTA DEL PROGRAMA           object\n",
      "ID SEXO                                     int64\n",
      "SEXO                                       object\n",
      "ANO                                        object\n",
      "SEMESTRE                                    int64\n",
      "PRIMER CURSO 2018                           int64\n",
      "dtype: object\n",
      "\n",
      "Tipos de datos del DataFrame 2019:\n",
      "CODIGO DE LA INSTITUCION                    int64\n",
      "IES_PADRE                                   int64\n",
      "INSTITUCION DE EDUCACION SUPERIOR (IES)    object\n",
      "PRINCIPAL O SECCIONAL                      object\n",
      "ID SECTOR IES                               int64\n",
      "SECTOR IES                                 object\n",
      "ID CARACTER                                 int64\n",
      "CARACTER IES                               object\n",
      "CODIGO DEL DEPARTAMENTO (IES)               int64\n",
      "DEPARTAMENTO DE DOMICILIO DE LA IES        object\n",
      "CODIGO DEL MUNICIPIO                        int64\n",
      "MUNICIPIO DE DOMICILIO DE LA IES           object\n",
      "CODIGO SNIES DEL PROGRAMA                  object\n",
      "PROGRAMA ACADEMICO                         object\n",
      "ID NIVEL ACADEMICO                          int64\n",
      "NIVEL ACADEMICO                            object\n",
      "ID NIVEL DE FORMACION                       int64\n",
      "NIVEL DE FORMACION                         object\n",
      "ID METODOLOGIA                              int64\n",
      "METODOLOGIA                                object\n",
      "ID AREA                                     int64\n",
      "AREA DE CONOCIMIENTO                       object\n",
      "ID NUCLEO                                   int64\n",
      "NUCLEO BASICO DEL CONOCIMIENTO (NBC)       object\n",
      "ID CINE CAMPO AMPLIO                        int64\n",
      "DESC CINE CAMPO AMPLIO                     object\n",
      "ID CINE CAMPO ESPECIFICO                    int64\n",
      "DESC CINE CAMPO ESPECIFICO                 object\n",
      "ID CINE CODIGO DETALLADO                    int64\n",
      "DESC CINE CODIGO DETALLADO                 object\n",
      "CODIGO DEL DEPARTAMENTO (PROGRAMA)          int64\n",
      "DEPARTAMENTO DE OFERTA DEL PROGRAMA        object\n",
      "CODIGO DEL MUNICIPIO (PROGRAMA)             int64\n",
      "MUNICIPIO DE OFERTA DEL PROGRAMA           object\n",
      "ID SEXO                                     int64\n",
      "ANO                                         int64\n",
      "SEMESTRE                                    int64\n",
      "PRIMER CURSO 2019                           int64\n",
      "dtype: object\n",
      "\n",
      "Tipos de datos del DataFrame 2020:\n",
      "CODIGO DE LA INSTITUCION                    int64\n",
      "IES_PADRE                                   int64\n",
      "INSTITUCION DE EDUCACION SUPERIOR (IES)    object\n",
      "PRINCIPAL O SECCIONAL                      object\n",
      "ID SECTOR IES                               int64\n",
      "SECTOR IES                                 object\n",
      "ID CARACTER                                 int64\n",
      "CARACTER IES                               object\n",
      "CODIGO DEL DEPARTAMENTO (IES)              object\n",
      "DEPARTAMENTO DE DOMICILIO DE LA IES        object\n",
      "CODIGO DEL MUNICIPIO (IES)                 object\n",
      "MUNICIPIO DE DOMICILIO DE LA IES           object\n",
      "CODIGO SNIES DEL PROGRAMA                   int64\n",
      "PROGRAMA ACADEMICO                         object\n",
      "ID NIVEL ACADEMICO                          int64\n",
      "NIVEL ACADEMICO                            object\n",
      "ID NIVEL DE FORMACION                       int64\n",
      "NIVEL DE FORMACION                         object\n",
      "ID METODOLOGIA                              int64\n",
      "METODOLOGIA                                object\n",
      "ID AREA DE CONOCIMIENTO                    object\n",
      "AREA DE CONOCIMIENTO                       object\n",
      "ID NUCLEO                                  object\n",
      "NUCLEO BASICO DEL CONOCIMIENTO (NBC)       object\n",
      "ID CINE CAMPO AMPLIO                        int64\n",
      "DESC CINE CAMPO AMPLIO                     object\n",
      "ID CINE CAMPO ESPECIFICO                    int64\n",
      "DESC CINE CAMPO ESPECIFICO                 object\n",
      "ID CINE CODIGO DETALLADO                    int64\n",
      "DESC CINE CODIGO DETALLADO                 object\n",
      "CODIGO DEL DEPARTAMENTO (PROGRAMA)         object\n",
      "DEPARTAMENTO DE OFERTA DEL PROGRAMA        object\n",
      "CODIGO DEL MUNICIPIO (PROGRAMA)            object\n",
      "MUNICIPIO DE OFERTA DEL PROGRAMA           object\n",
      "ID SEXO                                     int64\n",
      "SEXO                                       object\n",
      "ANO                                        object\n",
      "SEMESTRE                                    int64\n",
      "PRIMER CURSO                                int64\n",
      "dtype: object\n",
      "\n",
      "Tipos de datos del DataFrame 2021:\n",
      "CODIGO DE LA INSTITUCION                    int64\n",
      "IES_PADRE                                   int64\n",
      "INSTITUCION DE EDUCACION SUPERIOR (IES)    object\n",
      "PRINCIPAL O SECCIONAL                      object\n",
      "ID SECTOR IES                               int64\n",
      "SECTOR IES                                 object\n",
      "IES ACREDITADA                             object\n",
      "ID CARACTER                                 int64\n",
      "CARACTER IES                               object\n",
      "CODIGO DEL DEPARTAMENTO (IES)              object\n",
      "DEPARTAMENTO DE DOMICILIO DE LA IES        object\n",
      "CODIGO DEL MUNICIPIO (IES)                 object\n",
      "MUNICIPIO DE DOMICILIO DE LA IES           object\n",
      "CODIGO SNIES DEL PROGRAMA                   int64\n",
      "PROGRAMA ACADEMICO                         object\n",
      "PROGRAMA ACREDITADO                        object\n",
      "ID NIVEL ACADEMICO                          int64\n",
      "NIVEL ACADEMICO                            object\n",
      "ID NIVEL DE FORMACION                       int64\n",
      "NIVEL DE FORMACION                         object\n",
      "ID METODOLOGIA                              int64\n",
      "METODOLOGIA                                object\n",
      "ID AREA DE CONOCIMIENTO                     int64\n",
      "AREA DE CONOCIMIENTO                       object\n",
      "ID NUCLEO                                   int64\n",
      "NUCLEO BASICO DEL CONOCIMIENTO (NBC)       object\n",
      "ID CINE CAMPO AMPLIO                        int64\n",
      "DESC CINE CAMPO AMPLIO                     object\n",
      "ID CINE CAMPO ESPECIFICO                   object\n",
      "DESC CINE CAMPO ESPECIFICO                 object\n",
      "ID CINE CODIGO DETALLADO                   object\n",
      "DESC CINE CODIGO DETALLADO                 object\n",
      "CODIGO DEL DEPARTAMENTO (PROGRAMA)         object\n",
      "DEPARTAMENTO DE OFERTA DEL PROGRAMA        object\n",
      "CODIGO DEL MUNICIPIO (PROGRAMA)            object\n",
      "MUNICIPIO DE OFERTA DEL PROGRAMA           object\n",
      "ID SEXO                                     int64\n",
      "SEXO                                       object\n",
      "ANO                                        object\n",
      "SEMESTRE                                    int64\n",
      "PRIMER CURSO                                int64\n",
      "dtype: object\n",
      "\n",
      "Tipos de datos del DataFrame 2022:\n",
      "CODIGO DE LA INSTITUCION                    int64\n",
      "IES_PADRE                                   int64\n",
      "INSTITUCION DE EDUCACION SUPERIOR (IES)    object\n",
      "PRINCIPAL O SECCIONAL                      object\n",
      "ID SECTOR IES                               int64\n",
      "SECTOR IES                                 object\n",
      "IES ACREDITADA                             object\n",
      "ID CARACTER                                 int64\n",
      "CARACTER IES                               object\n",
      "CODIGO DEL DEPARTAMENTO (IES)              object\n",
      "DEPARTAMENTO DE DOMICILIO DE LA IES        object\n",
      "CODIGO DEL MUNICIPIO (IES)                 object\n",
      "MUNICIPIO DE DOMICILIO DE LA IES           object\n",
      "CODIGO SNIES DEL PROGRAMA                   int64\n",
      "PROGRAMA ACADEMICO                         object\n",
      "PROGRAMA ACREDITADO                        object\n",
      "ID NIVEL ACADEMICO                          int64\n",
      "NIVEL ACADEMICO                            object\n",
      "ID NIVEL DE FORMACION                       int64\n",
      "NIVEL DE FORMACION                         object\n",
      "ID METODOLOGIA                              int64\n",
      "METODOLOGIA                                object\n",
      "ID AREA DE CONOCIMIENTO                     int64\n",
      "AREA DE CONOCIMIENTO                       object\n",
      "ID NUCLEO                                   int64\n",
      "NUCLEO BASICO DEL CONOCIMIENTO (NBC)       object\n",
      "ID CINE CAMPO AMPLIO                        int64\n",
      "DESC CINE CAMPO AMPLIO                     object\n",
      "ID CINE CAMPO ESPECIFICO                    int64\n",
      "DESC CINE CAMPO ESPECIFICO                 object\n",
      "ID CINE CODIGO DETALLADO                    int64\n",
      "DESC CINE CODIGO DETALLADO                 object\n",
      "CODIGO DEL DEPARTAMENTO (PROGRAMA)         object\n",
      "DEPARTAMENTO DE OFERTA DEL PROGRAMA        object\n",
      "CODIGO DEL MUNICIPIO (PROGRAMA)            object\n",
      "MUNICIPIO DE OFERTA DEL PROGRAMA           object\n",
      "ID SEXO                                     int64\n",
      "SEXO                                       object\n",
      "ANO                                         int64\n",
      "SEMESTRE                                    int64\n",
      "PRIMER CURSO                                int64\n",
      "dtype: object\n",
      "\n",
      "Tipos de datos del DataFrame 2023:\n",
      "CODIGO DE LA INSTITUCION                    object\n",
      "IES PADRE                                  float64\n",
      "INSTITUCION DE EDUCACION SUPERIOR (IES)     object\n",
      "TIPO IES                                    object\n",
      "ID SECTOR IES                              float64\n",
      "SECTOR IES                                  object\n",
      "ID CARACTER IES                            float64\n",
      "CARACTER IES                                object\n",
      "CODIGO DEL DEPARTAMENTO (IES)               object\n",
      "DEPARTAMENTO DE DOMICILIO DE LA IES         object\n",
      "CODIGO DEL MUNICIPIO IES                    object\n",
      "MUNICIPIO DE DOMICILIO DE LA IES            object\n",
      "IES ACREDITADA                              object\n",
      "CODIGO SNIES DEL PROGRAMA                  float64\n",
      "PROGRAMA ACADEMICO                          object\n",
      "PROGRAMA ACREDITADO                         object\n",
      "ID NIVEL ACADEMICO                         float64\n",
      "NIVEL ACADEMICO                             object\n",
      "ID NIVEL DE FORMACION                      float64\n",
      "NIVEL DE FORMACION                          object\n",
      "ID MODALIDAD                               float64\n",
      "MODALIDAD                                   object\n",
      "ID AREA                                    float64\n",
      "AREA DE CONOCIMIENTO                        object\n",
      "ID NUCLEO                                  float64\n",
      "NUCLEO BASICO DEL CONOCIMIENTO (NBC)        object\n",
      "ID CINE CAMPO AMPLIO                       float64\n",
      "DESC CINE CAMPO AMPLIO                      object\n",
      "ID CINE CAMPO ESPECIFICO                   float64\n",
      "DESC CINE CAMPO ESPECIFICO                  object\n",
      "ID CINE CAMPO DETALLADO                    float64\n",
      "DESC CINE CAMPO DETALLADO                   object\n",
      "CODIGO DEL DEPARTAMENTO (PROGRAMA)          object\n",
      "DEPARTAMENTO DE OFERTA DEL PROGRAMA         object\n",
      "CODIGO DEL MUNICIPIO (PROGRAMA)             object\n",
      "MUNICIPIO DE OFERTA DEL PROGRAMA            object\n",
      "ID SEXO                                    float64\n",
      "SEXO                                        object\n",
      "ANO                                        float64\n",
      "SEMESTRE                                   float64\n",
      "MATRICULADOS PRIMER CURSO                  float64\n",
      "dtype: object\n",
      "\n"
     ]
    }
   ],
   "source": [
    "# Mostrar los tipos de datos de cada DataFrame\n",
    "for i, df in enumerate([df_2017_1ERCURSO_copy, df_2018_1ERCURSO_copy, df_2019_1ERCURSO_copy, \n",
    "                         df_2020_1ERCURSO_copy, df_2021_1ERCURSO_copy, df_2022_1ERCURSO_copy, \n",
    "                         df_2023_1ERCURSO_copy]):\n",
    "    print(f\"Tipos de datos del DataFrame {i + 2017}:\")\n",
    "    print(df.dtypes)\n",
    "    print()"
   ]
  },
  {
   "cell_type": "code",
   "execution_count": 12,
   "metadata": {},
   "outputs": [],
   "source": [
    "# Palabras clave para filtrar las columnas\n",
    "keywords = ['SNIES', 'SEXO', 'AÑO', 'ANO', 'PRIMER','CURSO', 'SEMESTRE']\n",
    "\n",
    "# Crear una lista de DataFrames\n",
    "dataframes = [df_2017_1ERCURSO_copy, df_2018_1ERCURSO_copy, df_2019_1ERCURSO_copy, \n",
    "              df_2020_1ERCURSO_copy, df_2021_1ERCURSO_copy, df_2022_1ERCURSO_copy, \n",
    "              df_2023_1ERCURSO_copy]\n",
    "\n",
    "# Iterar sobre cada DataFrame y realizar las transformaciones necesarias\n",
    "filtered_dataframes = []\n",
    "for i, df in enumerate(dataframes):\n",
    "    \n",
    "    # Añadir la descripción de sexo\n",
    "    df['SEXO'] = df['ID SEXO'].apply(lambda x: 'Masculino' if x == 1 else 'Femenino' if x == 2 else 'Desconocido')\n",
    "    \n",
    "    # Filtrar las columnas que contienen las palabras clave, esto genera una copia con las columnas seleccionadas.\n",
    "    filtered_columns = df.filter(regex='|'.join(keywords)).columns\n",
    "    filtered_df = df[filtered_columns]\n",
    "        \n",
    "    # Renombrar las columnas específicas\n",
    "    filtered_df = filtered_df.rename(columns={\n",
    "        'CODIGO \\nSNIES DEL\\nPROGRAMA':'CODIGO_SNIES_DEL_PROGRAMA',\n",
    "        'CODIGO SNIES DEL PROGRAMA': 'CODIGO_SNIES_DEL_PROGRAMA',\n",
    "        'MATRICULADOS PRIMER CURSO':'PRIMER_CURSO',\n",
    "        'PRIMER CURSO 2017':'PRIMER_CURSO',\n",
    "        'PRIMER CURSO 2018':'PRIMER_CURSO',\n",
    "        'PRIMER CURSO 2019':'PRIMER_CURSO',\n",
    "        'PRIMER CURSO':'PRIMER_CURSO',\n",
    "        'PRIMER CURSO':'PRIMER_CURSO',\n",
    "        'ANO': 'AÑO'\n",
    "    })\n",
    "    \n",
    "    # Actualizar el dataframe en la lista de dataframes\n",
    "    dataframes[i] = filtered_df\n",
    "\n",
    "    #Agregar el DataFrame filtrado a la lista de DataFrames filtrados\n",
    "    filtered_dataframes.append(filtered_df)\n"
   ]
  },
  {
   "cell_type": "code",
   "execution_count": 13,
   "metadata": {},
   "outputs": [
    {
     "name": "stdout",
     "output_type": "stream",
     "text": [
      "   CODIGO_SNIES_DEL_PROGRAMA  ID SEXO       SEXO   AÑO  SEMESTRE  PRIMER_CURSO\n",
      "0                          1        1  Masculino  2017         1            74\n",
      "1                          1        1  Masculino  2017         2            62\n",
      "2                          1        2   Femenino  2017         1            30\n",
      "3                          1        2   Femenino  2017         2            40\n",
      "4                          2        1  Masculino  2017         1            26\n",
      "   CODIGO_SNIES_DEL_PROGRAMA  ID SEXO       SEXO   AÑO  SEMESTRE  PRIMER_CURSO\n",
      "0                          1        1  Masculino  2018         1            72\n",
      "1                          1        1  Masculino  2018         2            54\n",
      "2                          1        2   Femenino  2018         1            30\n",
      "3                          1        2   Femenino  2018         2            25\n",
      "4                          2        1  Masculino  2018         1            26\n",
      "  CODIGO_SNIES_DEL_PROGRAMA  ID SEXO   AÑO  SEMESTRE  PRIMER_CURSO       SEXO\n",
      "0                         1        1  2019         1            64  Masculino\n",
      "1                         1        1  2019         2            58  Masculino\n",
      "2                         1        2  2019         1            22   Femenino\n",
      "3                         1        2  2019         2            28   Femenino\n",
      "4                         2        1  2019         1            20  Masculino\n",
      "   CODIGO_SNIES_DEL_PROGRAMA  ID SEXO       SEXO   AÑO  SEMESTRE  PRIMER_CURSO\n",
      "0                          1        1  Masculino  2020         1            62\n",
      "1                          1        1  Masculino  2020         2            49\n",
      "2                          1        2   Femenino  2020         1            23\n",
      "3                          1        2   Femenino  2020         2            37\n",
      "4                          2        1  Masculino  2020         1            16\n",
      "   CODIGO_SNIES_DEL_PROGRAMA  ID SEXO       SEXO   AÑO  SEMESTRE  PRIMER_CURSO\n",
      "0                          1        1  Masculino  2021         1            54\n",
      "1                          1        1  Masculino  2021         2            40\n",
      "2                          1        2   Femenino  2021         1            43\n",
      "3                          1        2   Femenino  2021         2            45\n",
      "4                          2        1  Masculino  2021         1             8\n",
      "   CODIGO_SNIES_DEL_PROGRAMA  ID SEXO       SEXO   AÑO  SEMESTRE  PRIMER_CURSO\n",
      "0                          1        1  Masculino  2022         1            53\n",
      "1                          1        1  Masculino  2022         2            53\n",
      "2                          1        2   Femenino  2022         1            39\n",
      "3                          1        2   Femenino  2022         2            28\n",
      "4                          2        1  Masculino  2022         1            20\n",
      "   CODIGO_SNIES_DEL_PROGRAMA  ID SEXO       SEXO     AÑO  SEMESTRE  \\\n",
      "0                        1.0      1.0  Masculino  2023.0       1.0   \n",
      "1                        1.0      1.0  Masculino  2023.0       2.0   \n",
      "2                        1.0      2.0   Femenino  2023.0       1.0   \n",
      "3                        1.0      2.0   Femenino  2023.0       2.0   \n",
      "4                        2.0      1.0  Masculino  2023.0       1.0   \n",
      "\n",
      "   PRIMER_CURSO  \n",
      "0          63.0  \n",
      "1          49.0  \n",
      "2          37.0  \n",
      "3          31.0  \n",
      "4          15.0  \n"
     ]
    }
   ],
   "source": [
    "# Mostrar los encabezados de los DataFrames actualizados\n",
    "for i, df in enumerate(dataframes):\n",
    "    print(df.head())\n"
   ]
  },
  {
   "cell_type": "code",
   "execution_count": 14,
   "metadata": {},
   "outputs": [
    {
     "data": {
      "text/plain": [
       "(318459, 6)"
      ]
     },
     "execution_count": 14,
     "metadata": {},
     "output_type": "execute_result"
    }
   ],
   "source": [
    "# Concatenar todos los DataFrames filtrados en uno solo\n",
    "combined_df = pd.concat(filtered_dataframes, ignore_index=True)\n",
    "combined_df.shape\n"
   ]
  },
  {
   "cell_type": "code",
   "execution_count": 15,
   "metadata": {},
   "outputs": [
    {
     "name": "stdout",
     "output_type": "stream",
     "text": [
      "CODIGO_SNIES_DEL_PROGRAMA    8\n",
      "ID SEXO                      8\n",
      "SEXO                         0\n",
      "AÑO                          8\n",
      "SEMESTRE                     8\n",
      "PRIMER_CURSO                 8\n",
      "dtype: int64\n"
     ]
    }
   ],
   "source": [
    "# Mostrar la cantidad de datos vacíos por columna\n",
    "print(combined_df.isnull().sum())"
   ]
  },
  {
   "cell_type": "code",
   "execution_count": 16,
   "metadata": {
    "vscode": {
     "languageId": "powershell"
    }
   },
   "outputs": [
    {
     "data": {
      "text/html": [
       "<div>\n",
       "<style scoped>\n",
       "    .dataframe tbody tr th:only-of-type {\n",
       "        vertical-align: middle;\n",
       "    }\n",
       "\n",
       "    .dataframe tbody tr th {\n",
       "        vertical-align: top;\n",
       "    }\n",
       "\n",
       "    .dataframe thead th {\n",
       "        text-align: right;\n",
       "    }\n",
       "</style>\n",
       "<table border=\"1\" class=\"dataframe\">\n",
       "  <thead>\n",
       "    <tr style=\"text-align: right;\">\n",
       "      <th></th>\n",
       "      <th>CODIGO_SNIES_DEL_PROGRAMA</th>\n",
       "      <th>ID SEXO</th>\n",
       "      <th>SEXO</th>\n",
       "      <th>AÑO</th>\n",
       "      <th>SEMESTRE</th>\n",
       "      <th>PRIMER_CURSO</th>\n",
       "    </tr>\n",
       "  </thead>\n",
       "  <tbody>\n",
       "    <tr>\n",
       "      <th>318451</th>\n",
       "      <td>NaN</td>\n",
       "      <td>NaN</td>\n",
       "      <td>Desconocido</td>\n",
       "      <td>NaN</td>\n",
       "      <td>NaN</td>\n",
       "      <td>NaN</td>\n",
       "    </tr>\n",
       "    <tr>\n",
       "      <th>318452</th>\n",
       "      <td>NaN</td>\n",
       "      <td>NaN</td>\n",
       "      <td>Desconocido</td>\n",
       "      <td>NaN</td>\n",
       "      <td>NaN</td>\n",
       "      <td>NaN</td>\n",
       "    </tr>\n",
       "    <tr>\n",
       "      <th>318453</th>\n",
       "      <td>NaN</td>\n",
       "      <td>NaN</td>\n",
       "      <td>Desconocido</td>\n",
       "      <td>NaN</td>\n",
       "      <td>NaN</td>\n",
       "      <td>NaN</td>\n",
       "    </tr>\n",
       "    <tr>\n",
       "      <th>318454</th>\n",
       "      <td>NaN</td>\n",
       "      <td>NaN</td>\n",
       "      <td>Desconocido</td>\n",
       "      <td>NaN</td>\n",
       "      <td>NaN</td>\n",
       "      <td>NaN</td>\n",
       "    </tr>\n",
       "    <tr>\n",
       "      <th>318455</th>\n",
       "      <td>NaN</td>\n",
       "      <td>NaN</td>\n",
       "      <td>Desconocido</td>\n",
       "      <td>NaN</td>\n",
       "      <td>NaN</td>\n",
       "      <td>NaN</td>\n",
       "    </tr>\n",
       "    <tr>\n",
       "      <th>318456</th>\n",
       "      <td>NaN</td>\n",
       "      <td>NaN</td>\n",
       "      <td>Desconocido</td>\n",
       "      <td>NaN</td>\n",
       "      <td>NaN</td>\n",
       "      <td>NaN</td>\n",
       "    </tr>\n",
       "    <tr>\n",
       "      <th>318457</th>\n",
       "      <td>NaN</td>\n",
       "      <td>NaN</td>\n",
       "      <td>Desconocido</td>\n",
       "      <td>NaN</td>\n",
       "      <td>NaN</td>\n",
       "      <td>NaN</td>\n",
       "    </tr>\n",
       "    <tr>\n",
       "      <th>318458</th>\n",
       "      <td>NaN</td>\n",
       "      <td>NaN</td>\n",
       "      <td>Desconocido</td>\n",
       "      <td>NaN</td>\n",
       "      <td>NaN</td>\n",
       "      <td>NaN</td>\n",
       "    </tr>\n",
       "  </tbody>\n",
       "</table>\n",
       "</div>"
      ],
      "text/plain": [
       "       CODIGO_SNIES_DEL_PROGRAMA  ID SEXO         SEXO  AÑO  SEMESTRE  \\\n",
       "318451                       NaN      NaN  Desconocido  NaN       NaN   \n",
       "318452                       NaN      NaN  Desconocido  NaN       NaN   \n",
       "318453                       NaN      NaN  Desconocido  NaN       NaN   \n",
       "318454                       NaN      NaN  Desconocido  NaN       NaN   \n",
       "318455                       NaN      NaN  Desconocido  NaN       NaN   \n",
       "318456                       NaN      NaN  Desconocido  NaN       NaN   \n",
       "318457                       NaN      NaN  Desconocido  NaN       NaN   \n",
       "318458                       NaN      NaN  Desconocido  NaN       NaN   \n",
       "\n",
       "        PRIMER_CURSO  \n",
       "318451           NaN  \n",
       "318452           NaN  \n",
       "318453           NaN  \n",
       "318454           NaN  \n",
       "318455           NaN  \n",
       "318456           NaN  \n",
       "318457           NaN  \n",
       "318458           NaN  "
      ]
     },
     "execution_count": 16,
     "metadata": {},
     "output_type": "execute_result"
    }
   ],
   "source": [
    "# Filtrar registros donde 'PRIMER_CURSO' está vacío\n",
    "empty_primer_curso = combined_df[combined_df['PRIMER_CURSO'].isna()]\n",
    "\n",
    "# Mostrar las primeras 30 filas\n",
    "empty_primer_curso.head(8)"
   ]
  },
  {
   "cell_type": "code",
   "execution_count": 17,
   "metadata": {},
   "outputs": [
    {
     "name": "stdout",
     "output_type": "stream",
     "text": [
      "Filas restantes después de eliminar vacíos: 318451\n"
     ]
    }
   ],
   "source": [
    "# Eliminar filas con valores vacíos en el DataFrame\n",
    "combined_df = combined_df.dropna()\n",
    "\n",
    "# Verificar el tamaño del DataFrame después de eliminar vacíos\n",
    "print(f\"Filas restantes después de eliminar vacíos: {combined_df.shape[0]}\")"
   ]
  },
  {
   "cell_type": "code",
   "execution_count": 18,
   "metadata": {},
   "outputs": [
    {
     "name": "stdout",
     "output_type": "stream",
     "text": [
      "CODIGO_SNIES_DEL_PROGRAMA     object\n",
      "ID SEXO                      float64\n",
      "SEXO                          object\n",
      "AÑO                           object\n",
      "SEMESTRE                     float64\n",
      "PRIMER_CURSO                 float64\n",
      "dtype: object\n"
     ]
    }
   ],
   "source": [
    "# Mostrar los tipos de datos del DataFrame\n",
    "print(combined_df.dtypes)"
   ]
  },
  {
   "cell_type": "code",
   "execution_count": 19,
   "metadata": {},
   "outputs": [],
   "source": [
    "# Función para limpiar caracteres especiales, comas y puntos\n",
    "def limpiar_caracteres(texto):\n",
    "    if isinstance(texto, str):\n",
    "        return re.sub(r'[^\\d]', '', texto)\n",
    "    return texto\n",
    "\n",
    "# Aplicar la función de limpieza a las columnas pertinentes\n",
    "combined_df['CODIGO_SNIES_DEL_PROGRAMA'] = combined_df['CODIGO_SNIES_DEL_PROGRAMA'].apply(limpiar_caracteres)\n",
    "combined_df['AÑO'] = combined_df['AÑO'].apply(limpiar_caracteres)\n",
    "combined_df['PRIMER_CURSO'] = combined_df['PRIMER_CURSO'].apply(limpiar_caracteres)"
   ]
  },
  {
   "cell_type": "code",
   "execution_count": 20,
   "metadata": {},
   "outputs": [],
   "source": [
    "# Convertir las columnas a numéricas, forzando errores a NaN\n",
    "combined_df['CODIGO_SNIES_DEL_PROGRAMA'] = pd.to_numeric(combined_df['CODIGO_SNIES_DEL_PROGRAMA'], errors='coerce')\n",
    "combined_df['AÑO'] = pd.to_numeric(combined_df['AÑO'], errors='coerce')\n",
    "combined_df['PRIMER_CURSO'] = pd.to_numeric(combined_df['PRIMER_CURSO'], errors='coerce')\n",
    "combined_df['SEMESTRE'] = pd.to_numeric(combined_df['SEMESTRE'], errors='coerce')"
   ]
  },
  {
   "cell_type": "code",
   "execution_count": 21,
   "metadata": {},
   "outputs": [],
   "source": [
    "\n",
    "# Reemplazar valores NaN con un valor predeterminado (por ejemplo, 0) antes de convertir a enteros\n",
    "combined_df.fillna({'CODIGO_SNIES_DEL_PROGRAMA': 0}, inplace=True)\n",
    "combined_df.fillna({'AÑO': 0}, inplace=True)\n",
    "combined_df.fillna({'PRIMER_CURSO': 0}, inplace=True)\n"
   ]
  },
  {
   "cell_type": "code",
   "execution_count": 23,
   "metadata": {},
   "outputs": [],
   "source": [
    "# Convertir las columnas a enteros\n",
    "combined_df['CODIGO_SNIES_DEL_PROGRAMA'] = combined_df['CODIGO_SNIES_DEL_PROGRAMA'].astype('int32')\n",
    "combined_df['AÑO'] = combined_df['AÑO'].astype('int32')\n",
    "combined_df['PRIMER_CURSO'] = combined_df['PRIMER_CURSO'].astype('int32')\n",
    "combined_df['SEMESTRE'] = combined_df['SEMESTRE'].astype('int32')"
   ]
  },
  {
   "cell_type": "code",
   "execution_count": 24,
   "metadata": {},
   "outputs": [
    {
     "name": "stdout",
     "output_type": "stream",
     "text": [
      "Filas totales: 318451\n",
      "Filas eliminadas: 0\n"
     ]
    }
   ],
   "source": [
    "# Eliminar filas con valores NaN generados por errores de conversión y contar las filas eliminadas\n",
    "initial_row_count = combined_df.shape[0]\n",
    "combined_df.dropna(subset=['CODIGO_SNIES_DEL_PROGRAMA', 'AÑO', 'PRIMER_CURSO'], inplace=True)\n",
    "final_row_count = combined_df.shape[0]\n",
    "print(f\"Filas totales: {final_row_count}\")\n",
    "rows_dropped = initial_row_count - final_row_count\n",
    "print(f\"Filas eliminadas: {rows_dropped}\")"
   ]
  },
  {
   "cell_type": "code",
   "execution_count": 25,
   "metadata": {},
   "outputs": [
    {
     "data": {
      "text/html": [
       "<div>\n",
       "<style scoped>\n",
       "    .dataframe tbody tr th:only-of-type {\n",
       "        vertical-align: middle;\n",
       "    }\n",
       "\n",
       "    .dataframe tbody tr th {\n",
       "        vertical-align: top;\n",
       "    }\n",
       "\n",
       "    .dataframe thead th {\n",
       "        text-align: right;\n",
       "    }\n",
       "</style>\n",
       "<table border=\"1\" class=\"dataframe\">\n",
       "  <thead>\n",
       "    <tr style=\"text-align: right;\">\n",
       "      <th></th>\n",
       "      <th>CODIGO_SNIES_DEL_PROGRAMA</th>\n",
       "      <th>ID SEXO</th>\n",
       "      <th>SEXO</th>\n",
       "      <th>AÑO</th>\n",
       "      <th>SEMESTRE</th>\n",
       "      <th>PRIMER_CURSO</th>\n",
       "    </tr>\n",
       "  </thead>\n",
       "  <tbody>\n",
       "    <tr>\n",
       "      <th>0</th>\n",
       "      <td>1</td>\n",
       "      <td>1.0</td>\n",
       "      <td>Masculino</td>\n",
       "      <td>2017</td>\n",
       "      <td>1</td>\n",
       "      <td>74</td>\n",
       "    </tr>\n",
       "    <tr>\n",
       "      <th>1</th>\n",
       "      <td>1</td>\n",
       "      <td>1.0</td>\n",
       "      <td>Masculino</td>\n",
       "      <td>2017</td>\n",
       "      <td>2</td>\n",
       "      <td>62</td>\n",
       "    </tr>\n",
       "    <tr>\n",
       "      <th>2</th>\n",
       "      <td>1</td>\n",
       "      <td>2.0</td>\n",
       "      <td>Femenino</td>\n",
       "      <td>2017</td>\n",
       "      <td>1</td>\n",
       "      <td>30</td>\n",
       "    </tr>\n",
       "    <tr>\n",
       "      <th>3</th>\n",
       "      <td>1</td>\n",
       "      <td>2.0</td>\n",
       "      <td>Femenino</td>\n",
       "      <td>2017</td>\n",
       "      <td>2</td>\n",
       "      <td>40</td>\n",
       "    </tr>\n",
       "    <tr>\n",
       "      <th>4</th>\n",
       "      <td>2</td>\n",
       "      <td>1.0</td>\n",
       "      <td>Masculino</td>\n",
       "      <td>2017</td>\n",
       "      <td>1</td>\n",
       "      <td>26</td>\n",
       "    </tr>\n",
       "  </tbody>\n",
       "</table>\n",
       "</div>"
      ],
      "text/plain": [
       "   CODIGO_SNIES_DEL_PROGRAMA  ID SEXO       SEXO   AÑO  SEMESTRE  PRIMER_CURSO\n",
       "0                          1      1.0  Masculino  2017         1            74\n",
       "1                          1      1.0  Masculino  2017         2            62\n",
       "2                          1      2.0   Femenino  2017         1            30\n",
       "3                          1      2.0   Femenino  2017         2            40\n",
       "4                          2      1.0  Masculino  2017         1            26"
      ]
     },
     "execution_count": 25,
     "metadata": {},
     "output_type": "execute_result"
    }
   ],
   "source": [
    "combined_df.head()"
   ]
  },
  {
   "cell_type": "code",
   "execution_count": 27,
   "metadata": {},
   "outputs": [
    {
     "name": "stdout",
     "output_type": "stream",
     "text": [
      "Datos combinados cargados en la tabla 'PrimerCurso2017-2023' de la base de datos.\n",
      "   CODIGO_SNIES_DEL_PROGRAMA  ID SEXO       SEXO   AÑO  SEMESTRE  PRIMER_CURSO\n",
      "0                          1      1.0  Masculino  2017         1            74\n",
      "1                          1      1.0  Masculino  2017         2            62\n",
      "2                          1      2.0   Femenino  2017         1            30\n",
      "3                          1      2.0   Femenino  2017         2            40\n",
      "4                          2      1.0  Masculino  2017         1            26\n"
     ]
    }
   ],
   "source": [
    "# Crear una conexión a la base de datos ETL_Project\n",
    "engine = create_engine(f'postgresql://{db_user}:{db_password}@{db_host}:{db_port}/{db_name}')\n",
    "\n",
    "# Nombre de la nueva tabla\n",
    "combined_table_name = 'PrimerCurso2017-2023'\n",
    "\n",
    "# Definir el tipo de dato de cada columna\n",
    "dtype = {\n",
    "    'CODIGO SNIES DEL PROGRAMA': Integer(),\n",
    "    'SEXO': String(),\n",
    "    'AÑO': Integer(),\n",
    "    'PRIMER CURSO': Integer(),\n",
    "    'SEMESTRE':Integer()\n",
    "}\n",
    "\n",
    "# Cargar el DataFrame combinado en la base de datos\n",
    "combined_df.to_sql(combined_table_name, engine, if_exists='replace', index=False, dtype=dtype)\n",
    "print(f\"Datos combinados cargados en la tabla '{combined_table_name}' de la base de datos.\")\n",
    "\n",
    "# Mostrar los primeros registros de la tabla combinada\n",
    "with engine.connect() as conn:\n",
    "    result_df = pd.read_sql(f'SELECT * FROM \"{combined_table_name}\" LIMIT 5', conn)\n",
    "    print(result_df)"
   ]
  },
  {
   "cell_type": "code",
   "execution_count": 28,
   "metadata": {},
   "outputs": [
    {
     "name": "stdout",
     "output_type": "stream",
     "text": [
      "Tablas en la base de datos ETL_Project: ['tabla_2017_1RECURSO', 'Table_Matricula', 'programs', 'tabla_2017_1ERCURSO', 'tabla_2018_1ERCURSO', 'tabla_2019_1ERCURSO', 'tabla_2020_1ERCURSO', 'tabla_2021_1ERCURSO', 'tabla_2022_1ERCURSO', 'tabla_2023_1ERCURSO', 'PrimerCurso2017-2023', 'dim_ies_df', 'dim_programs']\n"
     ]
    }
   ],
   "source": [
    "# Crear una conexión a la base de datos ETL_Project y consuto las tablas disponibles\n",
    "with engine.connect() as conn:\n",
    "    result = conn.execute(text(\"SELECT table_name FROM information_schema.tables WHERE table_schema='public'\"))\n",
    "    tables = result.fetchall()\n",
    "    table_list = [table[0] for table in tables]\n",
    "    print(\"Tablas en la base de datos ETL_Project:\", table_list)"
   ]
  },
  {
   "cell_type": "code",
   "execution_count": 31,
   "metadata": {},
   "outputs": [
    {
     "data": {
      "image/png": "[encoded data removed]",
      "text/plain": [
       "<Figure size 1200x600 with 1 Axes>"
      ]
     },
     "metadata": {},
     "output_type": "display_data"
    }
   ],
   "source": [
    "import seaborn as sns\n",
    "import matplotlib.pyplot as plt\n",
    "\n",
    "# Crear el gráfico de boxplot\n",
    "plt.figure(figsize=(12, 6))\n",
    "sns.boxplot(data=combined_df, x='AÑO', y='PRIMER_CURSO', hue='SEXO')\n",
    "\n",
    "# Configurar etiquetas y título\n",
    "plt.title('Distribución de Matriculados por Género y Año', fontsize=16)\n",
    "plt.xlabel('Año', fontsize=12)\n",
    "plt.ylabel('Matriculados Primer Curso', fontsize=12)\n",
    "plt.legend(title='Género')\n",
    "plt.xticks(rotation=45)\n",
    "\n",
    "# Mostrar el gráfico\n",
    "plt.tight_layout()\n",
    "plt.show()"
   ]
  }
 ],
 "metadata": {
  "kernelspec": {
   "display_name": "venv",
   "language": "python",
   "name": "python3"
  },
  "language_info": {
   "codemirror_mode": {
    "name": "ipython",
    "version": 3
   },
   "file_extension": ".py",
   "mimetype": "text/x-python",
   "name": "python",
   "nbconvert_exporter": "python",
   "pygments_lexer": "ipython3",
   "version": "3.13.2"
  }
 },
 "nbformat": 4,
 "nbformat_minor": 2
}
