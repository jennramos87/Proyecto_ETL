{
 "cells": [
  {
   "cell_type": "markdown",
   "metadata": {},
   "source": [
    "**Phase One of the Project: Data Extraction**  - Jenifer Ramos Rios - Code: 22500237"
   ]
  },
  {
   "cell_type": "markdown",
   "metadata": {},
   "source": [
    "Data base connection"
   ]
  },
  {
   "cell_type": "code",
   "execution_count": 42,
   "metadata": {},
   "outputs": [],
   "source": [
    "# Librerias\n",
    "import yaml\n",
    "import psycopg2 \n",
    "from psycopg2 import sql\n",
    "from sqlalchemy import create_engine, text\n",
    "from sqlalchemy.types import Integer, String, DateTime, Float\n",
    "import pandas as pd\n",
    "import os\n",
    "import re"
   ]
  },
  {
   "cell_type": "code",
   "execution_count": 43,
   "metadata": {},
   "outputs": [],
   "source": [
    "def load_config(file_path=\"config.yaml\"):\n",
    "    with open(file_path, \"r\") as file: # Abre el archivo en modo lectura (\"r\")\n",
    "        return yaml.safe_load(file) # Carga y devuelve el contenido del archivo YAML"
   ]
  },
  {
   "cell_type": "code",
   "execution_count": 44,
   "metadata": {},
   "outputs": [],
   "source": [
    "config = load_config()\n",
    "db_config = config[\"database\"]\n",
    "\n",
    "# Load credentials, se accede a los valores de la clave \"database\" del archivo config.yaml\n",
    "db_user = db_config[\"user\"]\n",
    "db_password = db_config[\"password\"]\n",
    "db_host = db_config[\"host\"]\n",
    "db_port = db_config[\"port\"]\n",
    "db_name = db_config[\"name\"]\n",
    "\n",
    "# DB connection\n",
    "conn = psycopg2.connect(\n",
    "    dbname=\"postgres\",\n",
    "    user=db_user,\n",
    "    password=db_password,\n",
    "    host=db_host,\n",
    "    port=db_port\n",
    ")\n",
    "conn.autocommit = True"
   ]
  },
  {
   "cell_type": "code",
   "execution_count": 45,
   "metadata": {},
   "outputs": [
    {
     "name": "stdout",
     "output_type": "stream",
     "text": [
      "La base de datos 'ETL_Project' ya existe.\n"
     ]
    }
   ],
   "source": [
    "#Creating the database \n",
    "db_name = \"ETL_Project\"\n",
    "try:\n",
    "    with conn.cursor() as cur:\n",
    "        cur.execute(sql.SQL(\"CREATE DATABASE {}\").format(sql.Identifier(db_name)))\n",
    "        print(f\"Base de datos '{db_name}' creada exitosamente.\")\n",
    "except psycopg2.errors.DuplicateDatabase:\n",
    "    print(f\"La base de datos '{db_name}' ya existe.\")\n",
    "finally:\n",
    "    conn.close() #Close the database connection"
   ]
  },
  {
   "cell_type": "markdown",
   "metadata": {},
   "source": [
    "File Reading for Review and Table Creation"
   ]
  },
  {
   "cell_type": "code",
   "execution_count": 46,
   "metadata": {},
   "outputs": [
    {
     "name": "stdout",
     "output_type": "stream",
     "text": [
      "Excel (xlsx) files found: ['D:/JENN/Maestria IACD/ETL/ETL-Class-Project/Data/1erCurso\\\\2017_1RECURSO.xlsx', 'D:/JENN/Maestria IACD/ETL/ETL-Class-Project/Data/1erCurso\\\\2018_1ERCURSO.xlsx', 'D:/JENN/Maestria IACD/ETL/ETL-Class-Project/Data/1erCurso\\\\2019_1ERCURSO.xlsx', 'D:/JENN/Maestria IACD/ETL/ETL-Class-Project/Data/1erCurso\\\\2020_1ERCURSO.xlsx', 'D:/JENN/Maestria IACD/ETL/ETL-Class-Project/Data/1erCurso\\\\2021_1ERCURSO.xlsx', 'D:/JENN/Maestria IACD/ETL/ETL-Class-Project/Data/1erCurso\\\\2022_1ERCURSO.xlsx', 'D:/JENN/Maestria IACD/ETL/ETL-Class-Project/Data/1erCurso\\\\2023_1ERCURSO.xlsx']\n"
     ]
    }
   ],
   "source": [
    "# Specify the directory where the files are located\n",
    "first_course_path = \"D:/JENN/Maestria IACD/ETL/ETL-Class-Project/Data/1erCurso\"\n",
    "\n",
    "\n",
    "#List to store file names\n",
    "first_course_file_list = []\n",
    "\n",
    "# Iterate over the files in the directory\n",
    "for filename in os.listdir(first_course_path):\n",
    "    # Check if the file has the .xlsx extension\n",
    "    if filename.endswith(\".xlsx\"):\n",
    "        # Add the file to the list\n",
    "        first_course_file_list.append(os.path.join(first_course_path, filename))\n",
    "\n",
    "# Print the list of files\n",
    "print(\"Excel (xlsx) files found:\", first_course_file_list)"
   ]
  },
  {
   "cell_type": "code",
   "execution_count": 47,
   "metadata": {
    "vscode": {
     "languageId": "ruby"
    }
   },
   "outputs": [
    {
     "name": "stdout",
     "output_type": "stream",
     "text": [
      "Datos del archivo D:/JENN/Maestria IACD/ETL/ETL-Class-Project/Data/1erCurso\\2017_1RECURSO.xlsx cargados en la tabla 'tabla_2017_1RECURSO' de la base de datos.\n",
      "Datos del archivo D:/JENN/Maestria IACD/ETL/ETL-Class-Project/Data/1erCurso\\2018_1ERCURSO.xlsx cargados en la tabla 'tabla_2018_1ERCURSO' de la base de datos.\n",
      "Datos del archivo D:/JENN/Maestria IACD/ETL/ETL-Class-Project/Data/1erCurso\\2019_1ERCURSO.xlsx cargados en la tabla 'tabla_2019_1ERCURSO' de la base de datos.\n",
      "Datos del archivo D:/JENN/Maestria IACD/ETL/ETL-Class-Project/Data/1erCurso\\2020_1ERCURSO.xlsx cargados en la tabla 'tabla_2020_1ERCURSO' de la base de datos.\n",
      "Datos del archivo D:/JENN/Maestria IACD/ETL/ETL-Class-Project/Data/1erCurso\\2021_1ERCURSO.xlsx cargados en la tabla 'tabla_2021_1ERCURSO' de la base de datos.\n",
      "Datos del archivo D:/JENN/Maestria IACD/ETL/ETL-Class-Project/Data/1erCurso\\2022_1ERCURSO.xlsx cargados en la tabla 'tabla_2022_1ERCURSO' de la base de datos.\n",
      "Datos del archivo D:/JENN/Maestria IACD/ETL/ETL-Class-Project/Data/1erCurso\\2023_1ERCURSO.xlsx cargados en la tabla 'tabla_2023_1ERCURSO' de la base de datos.\n"
     ]
    }
   ],
   "source": [
    "table_names = []\n",
    "\n",
    "# Crear una conexión a la base de datos ETL_Project\n",
    "engine = create_engine(f'postgresql://{db_user}:{db_password}@{db_host}:{db_port}/{db_name}')\n",
    "\n",
    "# Leer los archivos en dataframes y cargarlos en la base de datos\n",
    "for file in first_course_file_list:\n",
    "    # Leer el archivo en un dataframe\n",
    "    df = pd.read_excel(file, header=None)\n",
    "    \n",
    "    # Hacer que la primera fila sea el encabezado\n",
    "    df.columns = df.iloc[0]\n",
    "    df = df[1:]\n",
    "\n",
    "    # Cambiar los encabezados a mayúsculas y eliminar tildes\n",
    "    df.columns = df.columns.str.upper().str.normalize('NFKD').str.encode('ascii', errors='ignore').str.decode('utf-8')\n",
    "\n",
    "    # Obtener el nombre del archivo sin la extensión\n",
    "    table_name = \"tabla_\" + os.path.splitext(os.path.basename(file))[0]\n",
    "    table_names.append(table_name)\n",
    "\n",
    "    # Cargar el dataframe en la base de datos\n",
    "    df.to_sql(table_name, engine, if_exists='replace', index=False)\n",
    "    print(f\"Datos del archivo {file} cargados en la tabla '{table_name}' de la base de datos.\")"
   ]
  },
  {
   "cell_type": "code",
   "execution_count": 54,
   "metadata": {},
   "outputs": [
    {
     "name": "stdout",
     "output_type": "stream",
     "text": [
      "Tabla 'tabla_2017_1RECURSO':\n",
      "Tabla 'tabla_2018_1ERCURSO':\n",
      "Tabla 'tabla_2019_1ERCURSO':\n",
      "Tabla 'tabla_2020_1ERCURSO':\n",
      "Tabla 'tabla_2021_1ERCURSO':\n",
      "Tabla 'tabla_2022_1ERCURSO':\n",
      "Tabla 'tabla_2023_1ERCURSO':\n"
     ]
    }
   ],
   "source": [
    "# leer las tablas de la DB en dataframes y mostrar los encabezados de cada tabla\n",
    "dataframes = []\n",
    "for tablabd in table_names:\n",
    "    with engine.connect() as conn:\n",
    "        df = pd.read_sql(f'SELECT * FROM \"{tablabd}\"', conn)\n",
    "        dataframes.append(df)\n",
    "        print(f\"Tabla '{tablabd}':\")\n",
    "        pd.set_option('display.max_columns', None)  # Mostrar todas las columnas\n",
    "        df.head(5)"
   ]
  },
  {
   "cell_type": "code",
   "execution_count": 49,
   "metadata": {},
   "outputs": [
    {
     "name": "stdout",
     "output_type": "stream",
     "text": [
      "   CODIGO SNIES DEL PROGRAMA  ID SEXO       SEXO   AÑO  PRIMER CURSO\n",
      "0                          1        1  Masculino  2017            74\n",
      "1                          1        1  Masculino  2017            62\n",
      "2                          1        2   Femenino  2017            30\n",
      "3                          1        2   Femenino  2017            40\n",
      "4                          2        1  Masculino  2017            26\n",
      "   CODIGO SNIES DEL PROGRAMA  ID SEXO       SEXO   AÑO  PRIMER CURSO\n",
      "0                          1        1  Masculino  2018            72\n",
      "1                          1        1  Masculino  2018            54\n",
      "2                          1        2   Femenino  2018            30\n",
      "3                          1        2   Femenino  2018            25\n",
      "4                          2        1  Masculino  2018            26\n",
      "  CODIGO SNIES DEL PROGRAMA  ID SEXO   AÑO  PRIMER CURSO       SEXO\n",
      "0                         1        1  2019            64  Masculino\n",
      "1                         1        1  2019            58  Masculino\n",
      "2                         1        2  2019            22   Femenino\n",
      "3                         1        2  2019            28   Femenino\n",
      "4                         2        1  2019            20  Masculino\n",
      "   CODIGO SNIES DEL PROGRAMA  ID SEXO       SEXO   AÑO  PRIMER CURSO\n",
      "0                          1        1  Masculino  2020            62\n",
      "1                          1        1  Masculino  2020            49\n",
      "2                          1        2   Femenino  2020            23\n",
      "3                          1        2   Femenino  2020            37\n",
      "4                          2        1  Masculino  2020            16\n",
      "   CODIGO SNIES DEL PROGRAMA  ID SEXO       SEXO   AÑO  PRIMER CURSO\n",
      "0                          1        1  Masculino  2021            54\n",
      "1                          1        1  Masculino  2021            40\n",
      "2                          1        2   Femenino  2021            43\n",
      "3                          1        2   Femenino  2021            45\n",
      "4                          2        1  Masculino  2021             8\n",
      "   CODIGO SNIES DEL PROGRAMA  ID SEXO       SEXO   AÑO  PRIMER CURSO\n",
      "0                          1        1  Masculino  2022            53\n",
      "1                          1        1  Masculino  2022            53\n",
      "2                          1        2   Femenino  2022            39\n",
      "3                          1        2   Femenino  2022            28\n",
      "4                          2        1  Masculino  2022            20\n",
      "   CODIGO SNIES DEL PROGRAMA  ID SEXO       SEXO     AÑO  \\\n",
      "0                        1.0      1.0  Masculino  2023.0   \n",
      "1                        1.0      1.0  Masculino  2023.0   \n",
      "2                        1.0      2.0   Femenino  2023.0   \n",
      "3                        1.0      2.0   Femenino  2023.0   \n",
      "4                        2.0      1.0  Masculino  2023.0   \n",
      "\n",
      "   MATRICULADOS PRIMER CURSO  \n",
      "0                       63.0  \n",
      "1                       49.0  \n",
      "2                       37.0  \n",
      "3                       31.0  \n",
      "4                       15.0  \n"
     ]
    }
   ],
   "source": [
    "# Palabras clave para filtrar las columnas\n",
    "keywords = ['SNIES', 'SEXO', 'AÑO', 'ANO', 'PRIMER']\n",
    "\n",
    "# Iterar sobre cada DataFrame y realizar las transformaciones necesarias\n",
    "filtered_dataframes = []\n",
    "for i, df in enumerate(dataframes):\n",
    "    \n",
    "    # Añadir la descripción de sexo\n",
    "    df['SEXO'] = df['ID SEXO'].apply(lambda x: 'Masculino' if x == 1 else 'Femenino' if x == 2 else 'Desconocido')\n",
    "    \n",
    "    # Filtrar las columnas que contienen las palabras clave, esto genera una copia con las columnas seleccionadas.\n",
    "    filtered_columns = df.filter(regex='|'.join(keywords)).columns\n",
    "    filtered_df = df[filtered_columns]\n",
    "        \n",
    "    # Renombrar las columnas específicas\n",
    "    filtered_df = filtered_df.rename(columns={\n",
    "        'CODIGO \\nSNIES DEL\\nPROGRAMA': 'CODIGO SNIES DEL PROGRAMA',\n",
    "        'PRIMER CURSO 2017': 'PRIMER CURSO',\n",
    "        'PRIMER CURSO 2018': 'PRIMER CURSO',\n",
    "        'PRIMER CURSO 2019': 'PRIMER CURSO',\n",
    "        'ANO': 'AÑO'\n",
    "    })\n",
    "    \n",
    "    # Actualizar el dataframe en la lista de dataframes\n",
    "    dataframes[i] = filtered_df\n",
    "\n",
    "    #Agregar el DataFrame filtrado a la lista de DataFrames filtrados\n",
    "    filtered_dataframes.append(filtered_df)\n",
    "\n",
    "# Mostrar los encabezados de los DataFrames actualizados\n",
    "for i, df in enumerate(dataframes):\n",
    "    print(df.head())\n"
   ]
  },
  {
   "cell_type": "code",
   "execution_count": 50,
   "metadata": {},
   "outputs": [
    {
     "name": "stdout",
     "output_type": "stream",
     "text": [
      "Filas totales: 269187\n",
      "Filas eliminadas: 49272\n"
     ]
    }
   ],
   "source": [
    "# Concatenar todos los DataFrames filtrados en uno solo\n",
    "combined_df = pd.concat(filtered_dataframes, ignore_index=True)\n",
    "\n",
    "# Seleccionar las columnas necesarias\n",
    "combined_df = combined_df[['CODIGO SNIES DEL PROGRAMA', 'SEXO', 'AÑO', 'PRIMER CURSO']]\n",
    "\n",
    "# Función para limpiar caracteres especiales, comas y puntos\n",
    "def limpiar_caracteres(texto):\n",
    "    if isinstance(texto, str):\n",
    "        return re.sub(r'[^\\d]', '', texto)\n",
    "    return texto\n",
    "\n",
    "# Aplicar la función de limpieza a las columnas pertinentes\n",
    "combined_df['CODIGO SNIES DEL PROGRAMA'] = combined_df['CODIGO SNIES DEL PROGRAMA'].apply(limpiar_caracteres)\n",
    "combined_df['AÑO'] = combined_df['AÑO'].apply(limpiar_caracteres)\n",
    "combined_df['PRIMER CURSO'] = combined_df['PRIMER CURSO'].apply(limpiar_caracteres)\n",
    "\n",
    "# Convertir las columnas a numéricas, forzando errores a NaN\n",
    "combined_df['CODIGO SNIES DEL PROGRAMA'] = pd.to_numeric(combined_df['CODIGO SNIES DEL PROGRAMA'], errors='coerce')\n",
    "combined_df['AÑO'] = pd.to_numeric(combined_df['AÑO'], errors='coerce')\n",
    "combined_df['PRIMER CURSO'] = pd.to_numeric(combined_df['PRIMER CURSO'], errors='coerce')\n",
    "\n",
    "# Eliminar filas con valores NaN generados por errores de conversión y contar las filas eliminadas\n",
    "initial_row_count = combined_df.shape[0]\n",
    "combined_df.dropna(subset=['CODIGO SNIES DEL PROGRAMA', 'AÑO', 'PRIMER CURSO'], inplace=True)\n",
    "final_row_count = combined_df.shape[0]\n",
    "print(f\"Filas totales: {final_row_count}\")\n",
    "rows_dropped = initial_row_count - final_row_count\n",
    "print(f\"Filas eliminadas: {rows_dropped}\")\n",
    "\n",
    "# Convertir tipos de datos correctamente\n",
    "combined_df = combined_df.astype({\n",
    "    'CODIGO SNIES DEL PROGRAMA': 'int64',\n",
    "    'AÑO': 'int64',\n",
    "    'PRIMER CURSO': 'int64',\n",
    "    'SEXO': 'string'\n",
    "})"
   ]
  },
  {
   "cell_type": "code",
   "execution_count": null,
   "metadata": {},
   "outputs": [
    {
     "name": "stdout",
     "output_type": "stream",
     "text": [
      "Datos combinados cargados en la tabla 'PrimerCurso2017-2023' de la base de datos.\n",
      "   CODIGO SNIES DEL PROGRAMA       SEXO   AÑO  PRIMER CURSO\n",
      "0                          1  Masculino  2017            74\n",
      "1                          1  Masculino  2017            62\n",
      "2                          1   Femenino  2017            30\n",
      "3                          1   Femenino  2017            40\n",
      "4                          2  Masculino  2017            26\n"
     ]
    }
   ],
   "source": [
    "# Crear una conexión a la base de datos ETL_Project\n",
    "engine = create_engine(f'postgresql://{db_user}:{db_password}@{db_host}:{db_port}/{db_name}')\n",
    "\n",
    "# Nombre de la nueva tabla\n",
    "combined_table_name = 'PrimerCurso2017-2023'\n",
    "\n",
    "# Definir el tipo de dato de cada columna\n",
    "dtype = {\n",
    "    'CODIGO SNIES DEL PROGRAMA': Integer(),\n",
    "    'SEXO': String(),\n",
    "    'AÑO': Integer(),\n",
    "    'PRIMER CURSO': Integer()\n",
    "}\n",
    "\n",
    "# Cargar el DataFrame combinado en la base de datos\n",
    "combined_df.to_sql(combined_table_name, engine, if_exists='replace', index=False, dtype=dtype)\n",
    "print(f\"Datos combinados cargados en la tabla '{combined_table_name}' de la base de datos.\")\n",
    "\n",
    "# Mostrar los primeros registros de la tabla combinada\n",
    "with engine.connect() as conn:\n",
    "    result_df = pd.read_sql(f'SELECT * FROM \"{combined_table_name}\" LIMIT 5', conn)\n",
    "    print(result_df)"
   ]
  },
  {
   "cell_type": "code",
   "execution_count": null,
   "metadata": {},
   "outputs": [
    {
     "name": "stdout",
     "output_type": "stream",
     "text": [
      "Tablas en la base de datos ETL_Project: ['PrimerCurso2017-2023', 'Table_Matricula', 'tabla_2017_1RECURSO', 'tabla_2018_1ERCURSO', 'tabla_2019_1ERCURSO', 'tabla_2020_1ERCURSO', 'tabla_2021_1ERCURSO', 'tabla_2022_1ERCURSO', 'tabla_2023_1ERCURSO']\n"
     ]
    }
   ],
   "source": [
    "# Crear una conexión a la base de datos ETL_Project y consuto las tablas disponibles\n",
    "with engine.connect() as conn:\n",
    "    result = conn.execute(text(\"SELECT table_name FROM information_schema.tables WHERE table_schema='public'\"))\n",
    "    tables = result.fetchall()\n",
    "    table_list = [table[0] for table in tables]\n",
    "    print(\"Tablas en la base de datos ETL_Project:\", table_list)"
   ]
  }
 ],
 "metadata": {
  "kernelspec": {
   "display_name": "venv",
   "language": "python",
   "name": "python3"
  },
  "language_info": {
   "codemirror_mode": {
    "name": "ipython",
    "version": 3
   },
   "file_extension": ".py",
   "mimetype": "text/x-python",
   "name": "python",
   "nbconvert_exporter": "python",
   "pygments_lexer": "ipython3",
   "version": "3.13.2"
  }
 },
 "nbformat": 4,
 "nbformat_minor": 2
}
